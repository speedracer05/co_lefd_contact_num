{
 "cells": [
  {
   "cell_type": "code",
   "execution_count": null,
   "id": "8a4c24c8-e7fb-4e2e-adb5-49f8d6b3bdbc",
   "metadata": {},
   "outputs": [],
   "source": [
    "# Import Libraries\n",
    "import requests\n",
    "from bs4 import BeautifulSoup\n",
    "import pandas as pd\n",
    "import time\n",
    "import re\n",
    "\n",
    "# Additional library for handling dynamic content, such as Google ad pop-ups\n",
    "from selenium import webdriver\n",
    "from selenium.webdriver.common.by import By\n",
    "from selenium.webdriver.chrome.service import Service\n",
    "from selenium.webdriver.chrome.options import Options\n",
    "from selenium.common.exceptions import NoSuchElementException\n",
    "from webdriver_manager.chrome import ChromeDriverManager\n",
    "\n",
    "# Configure the Chrome WebDriver options for headless execution if preferred\n",
    "chrome_options = Options()\n",
    "chrome_options.add_argument(\"--headless\")  # Comment this line to see browser actions\n",
    "\n",
    "# Start the Chrome WebDriver\n",
    "driver = webdriver.Chrome(service=Service(ChromeDriverManager().install()), options=chrome_options)\n"
   ]
  },
  {
   "cell_type": "code",
   "execution_count": null,
   "id": "ab84e48a-803f-4034-876c-2898f1bccdc7",
   "metadata": {},
   "outputs": [],
   "source": [
    "# Cell 2: Define Helper Functions for Data Formatting and Error Handling\n",
    "\n",
    "# Function to format state to abbreviations\n",
    "def format_state(state_name):\n",
    "    # Dictionary of state abbreviations\n",
    "    state_abbr = {\n",
    "        \"California\": \"CA\",\n",
    "        \"Colorado\": \"CO\",\n",
    "        # Add other state mappings as needed\n",
    "    }\n",
    "    return state_abbr.get(state_name, state_name)  # Default to state_name if not found\n",
    "\n",
    "# Function to format phone numbers to (XXX) XXX-XXXX\n",
    "def format_phone(phone):\n",
    "    phone_digits = re.sub(r\"\\D\", \"\", phone)  # Remove non-digit characters\n",
    "    return f\"({phone_digits[:3]}) {phone_digits[3:6]}-{phone_digits[6:10]}\" if len(phone_digits) >= 10 else phone\n"
   ]
  }
 ],
 "metadata": {
  "kernelspec": {
   "display_name": "Python 3 (ipykernel)",
   "language": "python",
   "name": "python3"
  },
  "language_info": {
   "codemirror_mode": {
    "name": "ipython",
    "version": 3
   },
   "file_extension": ".py",
   "mimetype": "text/x-python",
   "name": "python",
   "nbconvert_exporter": "python",
   "pygments_lexer": "ipython3",
   "version": "3.11.9"
  }
 },
 "nbformat": 4,
 "nbformat_minor": 5
}
